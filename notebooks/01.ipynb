{
 "cells": [
  {
   "cell_type": "code",
   "execution_count": null,
   "metadata": {},
   "outputs": [],
   "source": [
    "import statistics\n",
    "import sys\n",
    "\n",
    "sys.path.append(\"..\")\n",
    "import random\n",
    "\n",
    "import statspy as sp"
   ]
  },
  {
   "cell_type": "code",
   "execution_count": 2,
   "metadata": {},
   "outputs": [
    {
     "data": {
      "text/plain": [
       "[25, 25, 47, 83, 58, 15, 94, 91, 94, 51, 59, 17]"
      ]
     },
     "execution_count": 2,
     "metadata": {},
     "output_type": "execute_result"
    }
   ],
   "source": [
    "array = [random.randint(0, 100) for i in range(10)]\n",
    "array = [25, 25, *array]\n",
    "array"
   ]
  },
  {
   "cell_type": "code",
   "execution_count": null,
   "metadata": {},
   "outputs": [
    {
     "name": "stdout",
     "output_type": "stream",
     "text": [
      "stats mean: 54.916666666666664\n",
      "sirius mean: 54.916666666666664\n"
     ]
    }
   ],
   "source": [
    "print(f\"stats mean: {statistics.mean(array)}\")\n",
    "print(f\"statspy mean: {sp.mean(array)}\")"
   ]
  },
  {
   "cell_type": "code",
   "execution_count": null,
   "metadata": {},
   "outputs": [
    {
     "name": "stdout",
     "output_type": "stream",
     "text": [
      "stats median: 54.5\n",
      "sirius median: 54.5\n"
     ]
    }
   ],
   "source": [
    "print(f\"stats median: {statistics.median(array)}\")\n",
    "print(f\"statspy median: {sp.median(array)}\")"
   ]
  },
  {
   "cell_type": "code",
   "execution_count": null,
   "metadata": {},
   "outputs": [
    {
     "name": "stdout",
     "output_type": "stream",
     "text": [
      "stats mode: 25\n",
      "sirius mode: [25, 94]\n"
     ]
    }
   ],
   "source": [
    "print(f\"stats mode: {statistics.mode(array)}\")\n",
    "print(f\"statspy mode: {sp.mode(array)}\")"
   ]
  },
  {
   "cell_type": "code",
   "execution_count": null,
   "metadata": {},
   "outputs": [
    {
     "name": "stdout",
     "output_type": "stream",
     "text": [
      "stats stdev: 30.257856480389993\n"
     ]
    },
    {
     "ename": "NotImplementedError",
     "evalue": "",
     "output_type": "error",
     "traceback": [
      "\u001b[0;31m---------------------------------------------------------------------------\u001b[0m",
      "\u001b[0;31mNotImplementedError\u001b[0m                       Traceback (most recent call last)",
      "Cell \u001b[0;32mIn[6], line 2\u001b[0m\n\u001b[1;32m      1\u001b[0m \u001b[38;5;28mprint\u001b[39m(\u001b[38;5;124mf\u001b[39m\u001b[38;5;124m\"\u001b[39m\u001b[38;5;124mstats stdev: \u001b[39m\u001b[38;5;132;01m{\u001b[39;00mstatistics\u001b[38;5;241m.\u001b[39mstdev(array)\u001b[38;5;132;01m}\u001b[39;00m\u001b[38;5;124m\"\u001b[39m)\n\u001b[0;32m----> 2\u001b[0m \u001b[38;5;28mprint\u001b[39m(\u001b[38;5;124mf\u001b[39m\u001b[38;5;124m\"\u001b[39m\u001b[38;5;124msirius stdev: \u001b[39m\u001b[38;5;132;01m{\u001b[39;00m\u001b[43msirius\u001b[49m\u001b[38;5;241;43m.\u001b[39;49m\u001b[43mstandard_deviation\u001b[49m\u001b[43m(\u001b[49m\u001b[43marray\u001b[49m\u001b[43m)\u001b[49m\u001b[38;5;132;01m}\u001b[39;00m\u001b[38;5;124m\"\u001b[39m)\n",
      "File \u001b[0;32m~/Documents/projects/sirius/notebooks/../sirius/descriptive/dispersion.py:6\u001b[0m, in \u001b[0;36mstandard_deviation\u001b[0;34m(array)\u001b[0m\n\u001b[1;32m      5\u001b[0m \u001b[38;5;28;01mdef\u001b[39;00m \u001b[38;5;21mstandard_deviation\u001b[39m(array: \u001b[38;5;28mlist\u001b[39m[\u001b[38;5;28mint\u001b[39m \u001b[38;5;241m|\u001b[39m \u001b[38;5;28mfloat\u001b[39m]) \u001b[38;5;241m-\u001b[39m\u001b[38;5;241m>\u001b[39m \u001b[38;5;28mfloat\u001b[39m:\n\u001b[0;32m----> 6\u001b[0m     \u001b[38;5;28;01mraise\u001b[39;00m \u001b[38;5;167;01mNotImplementedError\u001b[39;00m\n",
      "\u001b[0;31mNotImplementedError\u001b[0m: "
     ]
    }
   ],
   "source": [
    "print(f\"stats stdev: {statistics.stdev(array)}\")\n",
    "print(f\"statspy stdev: {sp.stdev(array)}\")"
   ]
  }
 ],
 "metadata": {
  "kernelspec": {
   "display_name": ".venv",
   "language": "python",
   "name": "python3"
  },
  "language_info": {
   "codemirror_mode": {
    "name": "ipython",
    "version": 3
   },
   "file_extension": ".py",
   "mimetype": "text/x-python",
   "name": "python",
   "nbconvert_exporter": "python",
   "pygments_lexer": "ipython3",
   "version": "3.12.6"
  }
 },
 "nbformat": 4,
 "nbformat_minor": 2
}
