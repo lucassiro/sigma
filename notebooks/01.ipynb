{
 "cells": [
  {
   "cell_type": "code",
   "execution_count": 10,
   "metadata": {},
   "outputs": [],
   "source": [
    "import random\n",
    "import statistics\n",
    "\n",
    "import statspy as sp"
   ]
  },
  {
   "cell_type": "markdown",
   "metadata": {},
   "source": [
    "#### Creating an array"
   ]
  },
  {
   "cell_type": "code",
   "execution_count": 11,
   "metadata": {},
   "outputs": [
    {
     "data": {
      "text/plain": [
       "[25, 25, 52, 42, 0, 51, 88, 67, 94, 46, 44, 33]"
      ]
     },
     "execution_count": 11,
     "metadata": {},
     "output_type": "execute_result"
    }
   ],
   "source": [
    "array = [random.randint(0, 100) for i in range(10)]\n",
    "array = [25, 25, *array]\n",
    "array"
   ]
  },
  {
   "cell_type": "markdown",
   "metadata": {},
   "source": [
    "### Location params"
   ]
  },
  {
   "cell_type": "code",
   "execution_count": 12,
   "metadata": {},
   "outputs": [
    {
     "name": "stdout",
     "output_type": "stream",
     "text": [
      "stats mean: 47.25\n",
      "statspy mean: 47.25\n"
     ]
    }
   ],
   "source": [
    "print(f\"stats mean: {statistics.mean(array)}\")\n",
    "print(f\"statspy mean: {sp.mean(array)}\")"
   ]
  },
  {
   "cell_type": "code",
   "execution_count": 13,
   "metadata": {},
   "outputs": [
    {
     "name": "stdout",
     "output_type": "stream",
     "text": [
      "stats median: 45.0\n",
      "statspy median: 45.0\n"
     ]
    }
   ],
   "source": [
    "print(f\"stats median: {statistics.median(array)}\")\n",
    "print(f\"statspy median: {sp.median(array)}\")"
   ]
  },
  {
   "cell_type": "code",
   "execution_count": 14,
   "metadata": {},
   "outputs": [
    {
     "name": "stdout",
     "output_type": "stream",
     "text": [
      "stats mode: 25\n",
      "statspy mode: [25]\n"
     ]
    }
   ],
   "source": [
    "print(f\"stats mode: {statistics.mode(array)}\")\n",
    "print(f\"statspy mode: {sp.mode(array)}\")"
   ]
  },
  {
   "cell_type": "markdown",
   "metadata": {},
   "source": [
    "### Dispersion params"
   ]
  },
  {
   "cell_type": "code",
   "execution_count": 15,
   "metadata": {},
   "outputs": [
    {
     "name": "stdout",
     "output_type": "stream",
     "text": [
      "stats sample stdev: 26.52314598095921\n",
      "statspy sample stdev: 26.52314598095921\n"
     ]
    }
   ],
   "source": [
    "print(f\"stats sample stdev: {statistics.stdev(array)}\")\n",
    "print(f\"statspy sample stdev: {sp.stdev(array)}\")"
   ]
  },
  {
   "cell_type": "code",
   "execution_count": 16,
   "metadata": {},
   "outputs": [
    {
     "name": "stdout",
     "output_type": "stream",
     "text": [
      "stats population stdev: 25.39397894514892\n",
      "statspy population stdev: 25.39397894514892\n"
     ]
    }
   ],
   "source": [
    "print(f\"stats population stdev: {statistics.pstdev(array)}\")\n",
    "print(f\"statspy population stdev: {sp.pstdev(array)}\")"
   ]
  },
  {
   "cell_type": "code",
   "execution_count": 17,
   "metadata": {},
   "outputs": [
    {
     "name": "stdout",
     "output_type": "stream",
     "text": [
      "stats sample variance: 703.4772727272727\n",
      "statspy sample variance: 703.4772727272727\n"
     ]
    }
   ],
   "source": [
    "print(f\"stats sample variance: {statistics.variance(array)}\")\n",
    "print(f\"statspy sample variance: {sp.variance(array)}\")"
   ]
  },
  {
   "cell_type": "code",
   "execution_count": 18,
   "metadata": {},
   "outputs": [
    {
     "name": "stdout",
     "output_type": "stream",
     "text": [
      "stats population variance: 644.8541666666666\n",
      "statspy population variance: 644.8541666666666\n"
     ]
    }
   ],
   "source": [
    "print(f\"stats population variance: {statistics.pvariance(array)}\")\n",
    "print(f\"statspy population variance: {sp.pvariance(array)}\")"
   ]
  },
  {
   "cell_type": "markdown",
   "metadata": {},
   "source": [
    "# Tests"
   ]
  },
  {
   "cell_type": "code",
   "execution_count": null,
   "metadata": {},
   "outputs": [],
   "source": []
  }
 ],
 "metadata": {
  "kernelspec": {
   "display_name": "statspy-kLKw4TpD-py3.12",
   "language": "python",
   "name": "python3"
  },
  "language_info": {
   "codemirror_mode": {
    "name": "ipython",
    "version": 3
   },
   "file_extension": ".py",
   "mimetype": "text/x-python",
   "name": "python",
   "nbconvert_exporter": "python",
   "pygments_lexer": "ipython3",
   "version": "3.12.3"
  }
 },
 "nbformat": 4,
 "nbformat_minor": 2
}
